{
 "cells": [
  {
   "cell_type": "markdown",
   "metadata": {},
   "source": [
    "# Graph RAG implementation"
   ]
  },
  {
   "cell_type": "markdown",
   "metadata": {},
   "source": [
    "## Setup"
   ]
  },
  {
   "cell_type": "code",
   "execution_count": 163,
   "metadata": {},
   "outputs": [],
   "source": [
    "from langchain.graphs import Neo4jGraph\n",
    "import ast\n",
    "\n",
    "# from langchain.vectorstores.neo4j_vector import Neo4jVector\n",
    "# from langchain.embeddings.openai import OpenAIEmbeddings\n",
    "# from langchain_ollama import OllamaEmbeddings\n",
    "from dotenv import load_dotenv\n",
    "from sentence_transformers import SentenceTransformer\n",
    "import ollama\n",
    "import os"
   ]
  },
  {
   "cell_type": "markdown",
   "metadata": {},
   "source": [
    "Here we use the default embedding model from the AuraDB graph builder: sentence-transformers/all-MiniLM-L6-v2"
   ]
  },
  {
   "cell_type": "markdown",
   "metadata": {},
   "source": [
    "Load in the neo4j database information for authentication"
   ]
  },
  {
   "cell_type": "code",
   "execution_count": 164,
   "metadata": {},
   "outputs": [
    {
     "data": {
      "text/plain": [
       "True"
      ]
     },
     "execution_count": 164,
     "metadata": {},
     "output_type": "execute_result"
    }
   ],
   "source": [
    "load_dotenv()"
   ]
  },
  {
   "cell_type": "markdown",
   "metadata": {},
   "source": [
    "Connect to our hosted db"
   ]
  },
  {
   "cell_type": "code",
   "execution_count": 165,
   "metadata": {},
   "outputs": [],
   "source": [
    "url = \"neo4j+s://b9009f0e.databases.neo4j.io\"\n",
    "username = \"neo4j\"\n",
    "# get password from .env\n",
    "password = os.getenv(\"NEO4J_PASSWORD\")\n",
    "\n",
    "graph = Neo4jGraph(url=url, username=username, password=password)"
   ]
  },
  {
   "cell_type": "markdown",
   "metadata": {},
   "source": [
    "## Vector RAG"
   ]
  },
  {
   "cell_type": "markdown",
   "metadata": {},
   "source": [
    "Key steps:\n",
    "* embed the whole query\n",
    "* search for the closest nodes\n",
    "* extract the chunks associated with that node"
   ]
  },
  {
   "cell_type": "markdown",
   "metadata": {},
   "source": [
    "### Vector Index Creation"
   ]
  },
  {
   "cell_type": "code",
   "execution_count": 166,
   "metadata": {},
   "outputs": [],
   "source": [
    "def create_vector_index(graph, name):\n",
    "    graph.query(f\"DROP INDEX `{name}` IF EXISTS\")\n",
    "    graph.query(\n",
    "        f\"\"\"\n",
    "    CREATE VECTOR INDEX `{name}`\n",
    "    FOR (a:__Entity__) ON (a.embedding)\n",
    "    OPTIONS {{\n",
    "      indexConfig: {{\n",
    "        `vector.dimensions`: 384,\n",
    "        `vector.similarity_function`: 'cosine'\n",
    "      }}\n",
    "    }}\n",
    "    \"\"\"\n",
    "    )"
   ]
  },
  {
   "cell_type": "code",
   "execution_count": 167,
   "metadata": {},
   "outputs": [],
   "source": [
    "create_vector_index(graph, \"entities\")"
   ]
  },
  {
   "cell_type": "markdown",
   "metadata": {},
   "source": [
    "### Vector Search"
   ]
  },
  {
   "cell_type": "code",
   "execution_count": 168,
   "metadata": {},
   "outputs": [],
   "source": [
    "def vector_search(graph, query_embedding, index_name=\"entities\", k=5):\n",
    "    similarity_query = f\"\"\"\n",
    "    MATCH (n:`__Entity__`)\n",
    "    CALL db.index.vector.queryNodes('{index_name}', {k}, {query_embedding})\n",
    "    YIELD node, score\n",
    "    RETURN DISTINCT node.id, score\n",
    "    ORDER BY score DESC\n",
    "    LIMIT {k}\n",
    "\n",
    "    \"\"\"\n",
    "    result = graph.query(similarity_query)\n",
    "    return result"
   ]
  },
  {
   "cell_type": "code",
   "execution_count": 169,
   "metadata": {},
   "outputs": [],
   "source": [
    "def embed_entity(entity):\n",
    "    embeddings = SentenceTransformer(\"sentence-transformers/all-MiniLM-L6-v2\")\n",
    "    return embeddings.encode(entity).tolist()"
   ]
  },
  {
   "cell_type": "markdown",
   "metadata": {},
   "source": [
    "### Chunk Extraction"
   ]
  },
  {
   "cell_type": "code",
   "execution_count": 170,
   "metadata": {},
   "outputs": [],
   "source": [
    "def chunk_finder(graph, query):\n",
    "\n",
    "    # get the id of the query associated node\n",
    "    query_embedding = embed_entity(query)\n",
    "    response = vector_search(graph, query_embedding)\n",
    "    id = response[0][\"node.id\"]\n",
    "\n",
    "    chunk_find_query = f\"\"\"\n",
    "    MATCH (n:Chunk)-[r]->(m:`__Entity__` {{id: \"{id}\"}}) RETURN n.text,n.fileName LIMIT 8\n",
    "    \"\"\"\n",
    "    result = graph.query(chunk_find_query)\n",
    "    output = []\n",
    "    for record in result:\n",
    "        output.append((record[\"n.fileName\"], record[\"n.text\"]))\n",
    "    return output"
   ]
  },
  {
   "cell_type": "code",
   "execution_count": 171,
   "metadata": {},
   "outputs": [
    {
     "name": "stdout",
     "output_type": "stream",
     "text": [
      "[('ALBIOS.txt', ' within the intravascular compartment and, in addition, possible effects of albumin as a scavenger of nitric oxide,12 mediating peripheral vasodilatation during sepsis.25,26'), ('ALBIOS.txt', 'The secondary outcomes also provide a detailed profile of the safety of albumin administration during severe sepsis. The incidence of new organ failures during the study was similar in the two groups. We observed slightly higher average SOFA subscores for liver and coagulation in the albumin group, indicating a higher serum bilirubin and a lower platelet count, respectively, than were observed in the crystalloid group. Nonetheless, the absolute excess in the serum bilirubin concentration in the albumin group was marginal (median, 1.0 mg per deciliter [interquartile range, 0.6 to 1.7] vs. 0.9 mg per deciliter [interquartile range, 0.5 to 1.5], P<0.001) and was probably related to the methods used to prepare albumin solutions, which may be inefficient in clearing bilirubin content from plasma.21,27 The slight reduction in platelet counts in the'), ('ALBIOS.txt', ' bilirubin content from plasma.21,27 The slight reduction in platelet counts in the albumin group may be a further marker of a larger expansion of the intravascular compartment in this group than in the crystalloid group, with a consequent dilution of the hemoglobin content (Table S4 in the Supplementary Appendix).'), ('ALBIOS.txt', 'Post hoc univariate and multivariate analyses of data from the 1121 patients with septic shock showed significantly lower mortality at 90 days in the albumin group than in the crystalloid group. Conversely, in the subgroup of patients with severe sepsis without shock, mortality appeared to be higher among those who were treated with albumin than among those treated with crystalloids alone, although the difference was far from significant. This analysis was not prespecified, and therefore it may be characterized by well-known biases. Nonetheless, a state of shock associated with severe sepsis represents a well-defined clinical entity. Moreover, if the oncotic, antiinflammatory, and nitric oxide–scavenging properties of albumin are of clinical importance, these may be maximally exploited in the conditions that are the most severe, such as cardiovascular dysfunction.')]\n"
     ]
    }
   ],
   "source": [
    "query = \"blood platelet\"\n",
    "print(chunk_finder(graph, query))"
   ]
  },
  {
   "cell_type": "markdown",
   "metadata": {},
   "source": [
    "## Graph RAG"
   ]
  },
  {
   "cell_type": "markdown",
   "metadata": {},
   "source": [
    "### Entity Extraction"
   ]
  },
  {
   "cell_type": "markdown",
   "metadata": {},
   "source": [
    "Key steps:\n",
    "* Extract entities from the prompt\n",
    "* Embed the entities\n",
    "* query the graph db for the most similar nodes and their relationships\n",
    "* generate a response\n"
   ]
  },
  {
   "cell_type": "code",
   "execution_count": 172,
   "metadata": {},
   "outputs": [],
   "source": [
    "def get_entities(prompt, correction_context=\" \"):\n",
    "\n",
    "    prompt = f\"\"\"\n",
    "    You are a highly capable natural language processing assistant with extensive medical knowledge. \n",
    "    Your task is to extract medical entities from a given prompt. \n",
    "    Entities are specific names, places, dates, times, objects, organizations, or other identifiable items explicitly mentioned in the text.\n",
    "    Please output the entities as a list of strings in the format [\"string 1\", \"string 2\"]. Do not include duplicates. \n",
    "    Do not include any other text. Always include at least one entity.\n",
    "\n",
    "    {correction_context}\n",
    "\n",
    "    Here is the input prompt:\n",
    "    {prompt}\n",
    "\n",
    "    Extracted entities: \n",
    "    \"\"\"\n",
    "    # use generate because we are not chatting with this instance of 3.2\n",
    "    output = ollama.generate(model=\"llama3.2:latest\", prompt=prompt)\n",
    "    response = output.response\n",
    "\n",
    "    # add some error handling to get a list of strings (recursively call the extractor with added context)\n",
    "    try:\n",
    "        response = ast.literal_eval(response)\n",
    "        if not isinstance(response, list):\n",
    "            correction_string = f\"The previous output threw this error: Expected a list of strings, but got {type(response)} with value {response}\"\n",
    "            response = get_entities(prompt, correction_context=correction_string)\n",
    "    except (ValueError, SyntaxError) as e:\n",
    "        print(f\"Error converting to list: {e}\")\n",
    "        response = get_entities(prompt)\n",
    "\n",
    "    return response, correction_context"
   ]
  },
  {
   "cell_type": "markdown",
   "metadata": {},
   "source": [
    "> This will be an interesting design choice, what qualifies as an entity? We can always adjust the context of provided to the model at inference."
   ]
  },
  {
   "cell_type": "code",
   "execution_count": 173,
   "metadata": {},
   "outputs": [
    {
     "name": "stdout",
     "output_type": "stream",
     "text": [
      "['blood platelet', 'John Coogan', 'sepsis', 'Research Papers'] corr_cont:  \n",
      "<class 'list'>\n",
      "*******************************************\n",
      "['sepsis'] corr_cont:  \n",
      "<class 'list'>\n"
     ]
    }
   ],
   "source": [
    "test_prompt = \"\"\"The blood platelet is a type of cell that helps blood to clot. \n",
    "John Coogan is also important. \n",
    "Surgeon is a noun, sepsis is also a disease.\n",
    "Many of the Research Papers are about sepsis and what treatments may be effective.\"\"\"\n",
    "resp, corr_cont = get_entities(test_prompt)\n",
    "print(resp, f\"corr_cont: {corr_cont}\")\n",
    "print(type(resp))\n",
    "print(\"*******************************************\")\n",
    "test_prompt2 = \"What is the leading cause of sepsis?\"\n",
    "resp, corr_cont = get_entities(test_prompt2)\n",
    "print(resp, f\"corr_cont: {corr_cont}\")\n",
    "print(type(resp))"
   ]
  },
  {
   "cell_type": "markdown",
   "metadata": {},
   "source": [
    "> here we can use regex to search for nodes with similar ids to the entities but that is not efficient. We will use the embedding of the entities to search for the most similar node embeddings like with vector search."
   ]
  },
  {
   "cell_type": "markdown",
   "metadata": {},
   "source": [
    "### Graph Retrieval"
   ]
  },
  {
   "cell_type": "code",
   "execution_count": 174,
   "metadata": {},
   "outputs": [],
   "source": [
    "def graph_retriever(graph, query):\n",
    "    entities, _ = get_entities(query)\n",
    "    ids = []\n",
    "    for entity in entities:\n",
    "        embedding = embed_entity(entity)\n",
    "        closest_node = vector_search(graph, embedding, k=1)\n",
    "        id = closest_node[0][\"node.id\"]\n",
    "        ids.append(id)\n",
    "    context = \"\"\n",
    "    for id in ids:\n",
    "        neighbors_query = f\"\"\"\n",
    "        MATCH path = (n:`__Entity__` {{id:\"{id}\"}})-[r*..2]-(m:`__Entity__`)\n",
    "        WHERE ALL(rel IN relationships(path) WHERE NOT type(rel) IN ['HAS_ENTITY', 'MENTIONS'])\n",
    "        RETURN \n",
    "        n.id AS startNode,\n",
    "        [rel IN relationships(path) | \n",
    "            {{\n",
    "            type: type(rel),\n",
    "            direction: CASE \n",
    "                WHEN startNode(rel) = n THEN \"outgoing\" \n",
    "                WHEN endNode(rel) = n THEN \"incoming\" \n",
    "                ELSE \"undirected\"\n",
    "            END\n",
    "            }}] AS relationshipDetails,\n",
    "        [node IN nodes(path) | node.id] AS pathNodes\n",
    "        \"\"\"\n",
    "        result = graph.query(neighbors_query)\n",
    "        for record in result:\n",
    "            rel = record[\"relationshipDetails\"]\n",
    "            pathNodes = record[\"pathNodes\"]\n",
    "            formatted_path = \"\"\n",
    "            for i in range(len(rel)):\n",
    "                if rel[i][\"direction\"] == \"outgoing\":\n",
    "                    formatted_path += (\n",
    "                        f\" {pathNodes[i]} {rel[i]['type']} {pathNodes[i+1]},\"\n",
    "                    )\n",
    "                elif rel[i][\"direction\"] == \"incoming\":\n",
    "                    formatted_path += (\n",
    "                        f\" {pathNodes[i+1]} {rel[i]['type']} {pathNodes[i]},\"\n",
    "                    )\n",
    "                else:\n",
    "                    formatted_path += (\n",
    "                        f\" {pathNodes[i]} {rel[i]['type']} {pathNodes[i+1]},\"\n",
    "                    )\n",
    "            context += formatted_path + \"\\n\"\n",
    "\n",
    "    return context"
   ]
  },
  {
   "cell_type": "code",
   "execution_count": 175,
   "metadata": {},
   "outputs": [
    {
     "name": "stdout",
     "output_type": "stream",
     "text": [
      " Albumin GROUP_HAS_LOWER Platelet Count,\n",
      " Albumin GROUP_HAS_LOWER Platelet Count, Albumin EXPANDS Intravascular Compartment,\n",
      " Albumin GROUP_HAS_LOWER Platelet Count, Albumin GROUP_HAS_LOWER Mortality at 90 Days,\n",
      " Albumin GROUP_HAS_LOWER Platelet Count, Albumin GROUP_HAS_HIGHER Serum Bilirubin,\n",
      " Albumin GROUP_HAS_LOWER Platelet Count, Albumin ADMINISTERED_DURING Severe Sepsis,\n",
      " Albumin GROUP_HAS_LOWER Platelet Count, Albumin MEDIATES Peripheral Vasodilatation,\n",
      " Albumin GROUP_HAS_LOWER Platelet Count, Albumin SCAVENGES Nitric Oxide,\n",
      " Albumin GROUP_HAS_LOWER Platelet Count, Albumin HAS_PROPERTY buffer molecule for acid–base equilibrium,\n",
      " Albumin GROUP_HAS_LOWER Platelet Count, Albumin HAS_PROPERTY plasma colloid osmotic pressure,\n",
      " Albumin GROUP_HAS_LOWER Platelet Count, Albumin HAS_PROPERTY antioxidant and antiinflammatory properties,\n",
      " Albumin GROUP_HAS_LOWER Platelet Count, Albumin HAS_PROPERTY scavenger of reactive oxygen and nitrogen species,\n",
      " Albumin GROUP_HAS_LOWER Platelet Count, Albumin HAS_PROPERTY carrier for several endogenous and exogenous compounds,\n",
      " Albumin GROUP_HAS_LOWER Platelet Count, Albumin PROVIDED participating institution,\n",
      " Authors VOUCH_FOR integrity, accuracy, and completeness of the data and analysis,\n",
      " Authors ACCESS_TO all data,\n",
      " sepsis ASSOCIATED_WITH long-term cognitive decline,\n",
      " sepsis HAS_MANAGEMENT_PRINCIPLE control of the source of infection,\n",
      " sepsis HAS_MANAGEMENT_PRINCIPLE appropriate and timely administration of antimicrobial drugs,\n",
      " sepsis HAS_MANAGEMENT_PRINCIPLE early recognition,\n",
      " sepsis HAS_MANAGEMENT_PRINCIPLE resuscitation with intravenous fluids and vasoactive drugs,\n",
      " sepsis HAS_DECREASING_MORTALITY recent years,\n",
      " Authors VOUCH_FOR integrity, accuracy, and completeness of the data and analysis,\n",
      " Authors ACCESS_TO all data,\n",
      "\n"
     ]
    }
   ],
   "source": [
    "test_prompt = \"\"\"The blood platelet is a type of cell that helps blood to clot. \n",
    "John Coogan is also important. \n",
    "Surgeon is a noun, sepsis is also a disease.\n",
    "Many of the Research Papers are about sepsis and what treatments may be effective.\"\"\"\n",
    "resp = graph_retriever(graph, test_prompt)\n",
    "print(resp)"
   ]
  },
  {
   "cell_type": "markdown",
   "metadata": {},
   "source": [
    "## RAG Chain"
   ]
  },
  {
   "cell_type": "markdown",
   "metadata": {},
   "source": [
    "### Context generation"
   ]
  },
  {
   "cell_type": "code",
   "execution_count": null,
   "metadata": {},
   "outputs": [],
   "source": [
    "def context_builder(graph, query, method=\"hybrid\"):\n",
    "    \"\"\"\n",
    "    This function performs vector search, graph search, or both to build a context string for\n",
    "    an LLM\n",
    "\n",
    "    Args:\n",
    "    graph: Neo4jGraph object\n",
    "    query: string\n",
    "\n",
    "    Returns:\n",
    "    context: string\n",
    "    \"\"\"\n",
    "    context = \"\"\n",
    "    if method == \"vector\":\n",
    "        output = chunk_finder(graph, query)\n",
    "        context = \"Given the following context in the format [(File Name, Text),...] \\n\"\n",
    "        context += str(output)\n",
    "\n",
    "    elif method == \"graph\":\n",
    "        context = graph_retriever(graph, query)\n",
    "    elif method == \"hybrid\":\n",
    "\n",
    "        context = (\n",
    "            graph_retriever(graph, query)\n",
    "            + \"\\n And Given the following context in the format [(File Name, Text),...] \\n\"\n",
    "            + str(chunk_finder(graph, query))\n",
    "        )\n",
    "    else:\n",
    "        pass  # no context\n",
    "    return context"
   ]
  },
  {
   "cell_type": "code",
   "execution_count": null,
   "metadata": {},
   "outputs": [],
   "source": [
    "def generate_response(graph, query, method=\"hybrid\", model=\"llama3.2:latest\"):\n",
    "    context = context_builder(graph, query, method)\n",
    "    prompt = f\"\"\" \n",
    "    You are a highly capable natural language processing assistant with extensive medical knowledge.\n",
    "    Answer the following question based on the provided context:\n",
    "    Question: {query}\n",
    "    Context: {context}\n",
    "    \"\"\"\n",
    "\n",
    "    response = ollama.generate(model=model, prompt=prompt)\n",
    "    return response, prompt"
   ]
  },
  {
   "cell_type": "markdown",
   "metadata": {},
   "source": [
    "### Testing Outputs"
   ]
  },
  {
   "cell_type": "code",
   "execution_count": null,
   "metadata": {},
   "outputs": [
    {
     "name": "stdout",
     "output_type": "stream",
     "text": [
      "EGDT stands for Early Goal-Directed Therapy. It is a treatment protocol that involves administering intravenous fluids and vasoactive drugs to patients with severe sepsis, as well as antimicrobial therapy, in an effort to improve their chances of survival.\n",
      "\n",
      "The name \"Early Goal-Directed Therapy\" refers to the idea that early intervention can help guide the treatment plan to achieve specific \"goals,\" such as restoring adequate blood flow and oxygenation, and correcting any underlying imbalances.\n",
      "\n",
      "However, according to the provided context, EGDT does not appear to have a significant impact on reducing mortality rates in patients with early septic shock. The ARISE study found no reduction in 90-day all-cause mortality among patients treated with EGDT compared to those receiving usual care.\n",
      "\n",
      "In fact, some of the context highlights concerns and controversies surrounding the use of EGDT, such as potential risks associated with individual elements of the protocol, uncertainty about external validity, and infrastructure and resource requirements. Additionally, a separate study (PROCESS) found that protocol-based resuscitation (which includes EGDT) did not provide a survival benefit compared to usual care.\n",
      "\n",
      "Overall, while EGDT was initially shown to be beneficial in some studies, more recent research has cast doubt on its effectiveness as a treatment for early septic shock.\n"
     ]
    }
   ],
   "source": [
    "Question = \"What is EGDT?\"\n",
    "response, context = generate_response(graph, Question)\n",
    "print(response.response)\n",
    "# print(context)"
   ]
  },
  {
   "cell_type": "code",
   "execution_count": null,
   "metadata": {},
   "outputs": [
    {
     "name": "stdout",
     "output_type": "stream",
     "text": [
      "Based on the provided context, EGDT stands for Early Goal-Directed Therapy. It is a protocol of hemodynamic resuscitation that was initially shown to improve outcomes in patients presenting to the emergency department with severe sepsis in a 2001 proof-of-concept trial. However, subsequent trials and studies have raised concerns about its effectiveness and potential risks, leading to controversy surrounding its role in treating patients with severe sepsis.\n"
     ]
    }
   ],
   "source": [
    "vector_response, vector_context = generate_response(graph, Question, method=\"vector\")\n",
    "print(vector_response.response)\n",
    "# print(vector_context)"
   ]
  },
  {
   "cell_type": "code",
   "execution_count": null,
   "metadata": {},
   "outputs": [
    {
     "name": "stdout",
     "output_type": "stream",
     "text": [
      "EGDT stands for Early Goal-Directed Therapy. It is a treatment protocol that was developed to improve outcomes in patients with sepsis, a life-threatening condition caused by an infection. The goal of EGDt is to quickly and aggressively treat patients with sepsis, using a combination of antibiotics, fluid resuscitation, and vasopressors (medications that constrict blood vessels) to stabilize their vital signs and improve oxygen delivery to organs.\n",
      "\n",
      "The EGDt protocol was widely adopted in the early 2000s, but it has been the subject of much controversy and debate in recent years. While some studies suggested that EGDt could reduce mortality rates in patients with sepsis, more recent research has failed to replicate these findings, suggesting that EGDt may not provide a survival benefit for all patients.\n",
      "\n",
      "In fact, several large trials have shown that EGDt does not reduce 90-day all-cause mortality in patients with early septic shock. Additionally, some studies have found no significant differences in 28-day or in-hospital mortality, length of hospital stay, or duration of organ support between the EGDt group and usual care.\n",
      "\n",
      "The controversy surrounding EGDt centers around its high adherence to algorithm-directed therapies, but also concerns about potential risks associated with individual elements of the treatment protocol. Some critics have argued that the aggressive use of vasopressors in particular may increase mortality rates or cause unnecessary harm.\n",
      "\n",
      "Despite these controversies, some studies have suggested that bundle-based care, which includes EGDt as part of a broader package of evidence-based treatments, may be more effective than usual care in reducing mortality rates and improving outcomes for patients with sepsis. As such, the Surviving Sepsis Campaign guidelines now recommend incorporating elements of the 6-hour resuscitation bundle into sepsis treatment protocols.\n",
      "\n",
      "Overall, while EGDt was once hailed as a breakthrough treatment for sepsis, more recent research has raised important questions about its benefits and risks, and its place in modern sepsis treatment protocols.\n"
     ]
    }
   ],
   "source": [
    "graph_response, graph_context = generate_response(graph, Question, method=\"graph\")\n",
    "print(graph_response.response)\n",
    "# print(graph_context)"
   ]
  },
  {
   "cell_type": "code",
   "execution_count": 194,
   "metadata": {},
   "outputs": [
    {
     "name": "stdout",
     "output_type": "stream",
     "text": [
      "I'm happy to help, but it seems like you forgot to provide the context for the question. Could you please complete the sentence or provide more information about what \"EGDT\" refers to? I'll do my best to answer your question based on my medical knowledge and natural language processing capabilities.\n",
      "\n",
      "That being said, I can suggest a few possibilities:\n",
      "\n",
      "* EGDt could refer to Endoscopic Gastric Drainage Treatment, which is a treatment approach for certain types of gastritis or gastric ulcers.\n",
      "* EGDt might stand for Endoscopic Gastrointestinal Disease Treatment, which encompasses various treatments for gastrointestinal disorders.\n",
      "\n",
      "If you provide more context or clarify what \"EGDT\" means in your question, I'll be happy to give a more specific and accurate answer.\n"
     ]
    }
   ],
   "source": [
    "base_response, base_context = generate_response(graph, Question, method=\"none\")\n",
    "print(base_response.response)"
   ]
  },
  {
   "cell_type": "code",
   "execution_count": null,
   "metadata": {},
   "outputs": [
    {
     "name": "stdout",
     "output_type": "stream",
     "text": [
      "EGDT, or Early Goal-Directed Therapy, is a medical intervention used in the treatment of severe sepsis. It involves a specific protocol for hemodynamic resuscitation in patients presenting to the emergency department with early septic shock. The ARISE study aimed to test the hypothesis that EGDT would decrease 90-day all-cause mortality in these patients compared to usual care. However, the study found that EGDT did not reduce all-cause mortality at 90 days. Despite some nonrandomized studies showing survival benefits with bundle-based care that included EGDT, there is considerable controversy surrounding the role of EGDT in treating patients with severe sepsis due to concerns about potential risks, external validity, and infrastructure requirements.\n"
     ]
    }
   ],
   "source": [
    "granite_response, granite_context = generate_response(\n",
    "    graph, Question, model=\"granite3-dense:2b\", method=\"hybrid\"\n",
    ")\n",
    "print(granite_response.response)"
   ]
  },
  {
   "cell_type": "code",
   "execution_count": null,
   "metadata": {},
   "outputs": [
    {
     "name": "stdout",
     "output_type": "stream",
     "text": [
      "EGDT, or Emergency General Surgery Department, is a department in a hospital that specializes in treating emergency surgical cases. It is designed to handle urgent and critical surgical situations that require immediate attention. The department typically operates 24/7 and has the necessary resources and equipment to perform a wide range of surgical procedures.\n"
     ]
    }
   ],
   "source": [
    "granite_base_response, granite_base_context = generate_response(\n",
    "    graph, Question, model=\"granite3-dense:2b\", method=\"none\"\n",
    ")\n",
    "print(granite_base_response.response)"
   ]
  },
  {
   "cell_type": "code",
   "execution_count": null,
   "metadata": {},
   "outputs": [],
   "source": []
  }
 ],
 "metadata": {
  "kernelspec": {
   "display_name": "venv",
   "language": "python",
   "name": "python3"
  },
  "language_info": {
   "codemirror_mode": {
    "name": "ipython",
    "version": 3
   },
   "file_extension": ".py",
   "mimetype": "text/x-python",
   "name": "python",
   "nbconvert_exporter": "python",
   "pygments_lexer": "ipython3",
   "version": "3.11.5"
  }
 },
 "nbformat": 4,
 "nbformat_minor": 2
}
